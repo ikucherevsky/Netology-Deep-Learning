{
 "cells": [
  {
   "cell_type": "markdown",
   "metadata": {},
   "source": [
    "## Домашнее задание № 2. Torch. Перцептрон, линейная регрессия."
   ]
  },
  {
   "cell_type": "code",
   "execution_count": 1,
   "metadata": {},
   "outputs": [],
   "source": [
    "import pandas as pd\n",
    "import torch\n",
    "import numpy as np\n",
    "from torch.utils.data import TensorDataset, DataLoader\n",
    "from sklearn.preprocessing import StandardScaler\n",
    "import matplotlib.pyplot as plt\n",
    "from pylab import rcParams\n",
    "# Для последующего сравнения моделей\n",
    "from sklearn.linear_model import LinearRegression\n",
    "from sklearn.metrics import mean_squared_error"
   ]
  },
  {
   "cell_type": "code",
   "execution_count": 2,
   "metadata": {},
   "outputs": [
    {
     "data": {
      "text/html": [
       "<div>\n",
       "<style scoped>\n",
       "    .dataframe tbody tr th:only-of-type {\n",
       "        vertical-align: middle;\n",
       "    }\n",
       "\n",
       "    .dataframe tbody tr th {\n",
       "        vertical-align: top;\n",
       "    }\n",
       "\n",
       "    .dataframe thead th {\n",
       "        text-align: right;\n",
       "    }\n",
       "</style>\n",
       "<table border=\"1\" class=\"dataframe\">\n",
       "  <thead>\n",
       "    <tr style=\"text-align: right;\">\n",
       "      <th></th>\n",
       "      <th>CRIM</th>\n",
       "      <th>ZN</th>\n",
       "      <th>INDUS</th>\n",
       "      <th>CHAS</th>\n",
       "      <th>NOX</th>\n",
       "      <th>RM</th>\n",
       "      <th>AGE</th>\n",
       "      <th>DIS</th>\n",
       "      <th>RAD</th>\n",
       "      <th>TAX</th>\n",
       "      <th>PTRATIO</th>\n",
       "      <th>B</th>\n",
       "      <th>LSTAT</th>\n",
       "      <th>MEDV</th>\n",
       "    </tr>\n",
       "  </thead>\n",
       "  <tbody>\n",
       "    <tr>\n",
       "      <th>0</th>\n",
       "      <td>0.00632</td>\n",
       "      <td>18.0</td>\n",
       "      <td>2.31</td>\n",
       "      <td>0</td>\n",
       "      <td>0.538</td>\n",
       "      <td>6.575</td>\n",
       "      <td>65.2</td>\n",
       "      <td>4.0900</td>\n",
       "      <td>1</td>\n",
       "      <td>296.0</td>\n",
       "      <td>15.3</td>\n",
       "      <td>396.90</td>\n",
       "      <td>4.98</td>\n",
       "      <td>24.0</td>\n",
       "    </tr>\n",
       "    <tr>\n",
       "      <th>1</th>\n",
       "      <td>0.02731</td>\n",
       "      <td>0.0</td>\n",
       "      <td>7.07</td>\n",
       "      <td>0</td>\n",
       "      <td>0.469</td>\n",
       "      <td>6.421</td>\n",
       "      <td>78.9</td>\n",
       "      <td>4.9671</td>\n",
       "      <td>2</td>\n",
       "      <td>242.0</td>\n",
       "      <td>17.8</td>\n",
       "      <td>396.90</td>\n",
       "      <td>9.14</td>\n",
       "      <td>21.6</td>\n",
       "    </tr>\n",
       "    <tr>\n",
       "      <th>2</th>\n",
       "      <td>0.02729</td>\n",
       "      <td>0.0</td>\n",
       "      <td>7.07</td>\n",
       "      <td>0</td>\n",
       "      <td>0.469</td>\n",
       "      <td>7.185</td>\n",
       "      <td>61.1</td>\n",
       "      <td>4.9671</td>\n",
       "      <td>2</td>\n",
       "      <td>242.0</td>\n",
       "      <td>17.8</td>\n",
       "      <td>392.83</td>\n",
       "      <td>4.03</td>\n",
       "      <td>34.7</td>\n",
       "    </tr>\n",
       "    <tr>\n",
       "      <th>3</th>\n",
       "      <td>0.03237</td>\n",
       "      <td>0.0</td>\n",
       "      <td>2.18</td>\n",
       "      <td>0</td>\n",
       "      <td>0.458</td>\n",
       "      <td>6.998</td>\n",
       "      <td>45.8</td>\n",
       "      <td>6.0622</td>\n",
       "      <td>3</td>\n",
       "      <td>222.0</td>\n",
       "      <td>18.7</td>\n",
       "      <td>394.63</td>\n",
       "      <td>2.94</td>\n",
       "      <td>33.4</td>\n",
       "    </tr>\n",
       "    <tr>\n",
       "      <th>4</th>\n",
       "      <td>0.06905</td>\n",
       "      <td>0.0</td>\n",
       "      <td>2.18</td>\n",
       "      <td>0</td>\n",
       "      <td>0.458</td>\n",
       "      <td>7.147</td>\n",
       "      <td>54.2</td>\n",
       "      <td>6.0622</td>\n",
       "      <td>3</td>\n",
       "      <td>222.0</td>\n",
       "      <td>18.7</td>\n",
       "      <td>396.90</td>\n",
       "      <td>5.33</td>\n",
       "      <td>36.2</td>\n",
       "    </tr>\n",
       "  </tbody>\n",
       "</table>\n",
       "</div>"
      ],
      "text/plain": [
       "      CRIM    ZN  INDUS  CHAS    NOX     RM   AGE     DIS  RAD    TAX  \\\n",
       "0  0.00632  18.0   2.31     0  0.538  6.575  65.2  4.0900    1  296.0   \n",
       "1  0.02731   0.0   7.07     0  0.469  6.421  78.9  4.9671    2  242.0   \n",
       "2  0.02729   0.0   7.07     0  0.469  7.185  61.1  4.9671    2  242.0   \n",
       "3  0.03237   0.0   2.18     0  0.458  6.998  45.8  6.0622    3  222.0   \n",
       "4  0.06905   0.0   2.18     0  0.458  7.147  54.2  6.0622    3  222.0   \n",
       "\n",
       "   PTRATIO       B  LSTAT  MEDV  \n",
       "0     15.3  396.90   4.98  24.0  \n",
       "1     17.8  396.90   9.14  21.6  \n",
       "2     17.8  392.83   4.03  34.7  \n",
       "3     18.7  394.63   2.94  33.4  \n",
       "4     18.7  396.90   5.33  36.2  "
      ]
     },
     "execution_count": 2,
     "metadata": {},
     "output_type": "execute_result"
    }
   ],
   "source": [
    "column_names = ['CRIM', 'ZN', 'INDUS', 'CHAS', 'NOX', 'RM', 'AGE', 'DIS', 'RAD', 'TAX', 'PTRATIO', 'B', 'LSTAT', 'MEDV']\n",
    "data = pd.read_csv('C:/Users/Игорь/Downloads/boston-house-prices/housing.csv', header=None, delimiter=r\"\\s+\", names=column_names)\n",
    "data.head()"
   ]
  },
  {
   "cell_type": "code",
   "execution_count": 3,
   "metadata": {},
   "outputs": [
    {
     "name": "stdout",
     "output_type": "stream",
     "text": [
      "<class 'pandas.core.frame.DataFrame'>\n",
      "RangeIndex: 506 entries, 0 to 505\n",
      "Data columns (total 14 columns):\n",
      "CRIM       506 non-null float64\n",
      "ZN         506 non-null float64\n",
      "INDUS      506 non-null float64\n",
      "CHAS       506 non-null int64\n",
      "NOX        506 non-null float64\n",
      "RM         506 non-null float64\n",
      "AGE        506 non-null float64\n",
      "DIS        506 non-null float64\n",
      "RAD        506 non-null int64\n",
      "TAX        506 non-null float64\n",
      "PTRATIO    506 non-null float64\n",
      "B          506 non-null float64\n",
      "LSTAT      506 non-null float64\n",
      "MEDV       506 non-null float64\n",
      "dtypes: float64(12), int64(2)\n",
      "memory usage: 55.5 KB\n"
     ]
    }
   ],
   "source": [
    "data.info()"
   ]
  },
  {
   "cell_type": "code",
   "execution_count": 4,
   "metadata": {},
   "outputs": [],
   "source": [
    "features = np.array(data.iloc[:,:13]).astype('float32')\n",
    "labels = np.array (data.iloc[:,13]).astype('float32')"
   ]
  },
  {
   "cell_type": "code",
   "execution_count": 6,
   "metadata": {},
   "outputs": [],
   "source": [
    "reg = LinearRegression().fit(features, labels)"
   ]
  },
  {
   "cell_type": "code",
   "execution_count": 7,
   "metadata": {},
   "outputs": [
    {
     "data": {
      "text/plain": [
       "0.7406426558680462"
      ]
     },
     "execution_count": 7,
     "metadata": {},
     "output_type": "execute_result"
    }
   ],
   "source": [
    "reg.score(features, labels)"
   ]
  },
  {
   "cell_type": "code",
   "execution_count": 8,
   "metadata": {},
   "outputs": [
    {
     "data": {
      "text/plain": [
       "array([-1.08011946e-01,  4.64196503e-02,  2.05591451e-02,  2.68669748e+00,\n",
       "       -1.77667084e+01,  3.80986023e+00,  6.95329974e-04, -1.47556639e+00,\n",
       "        3.06048065e-01, -1.23347277e-02, -9.52748001e-01,  9.31191351e-03,\n",
       "       -5.24758339e-01], dtype=float32)"
      ]
     },
     "execution_count": 8,
     "metadata": {},
     "output_type": "execute_result"
    }
   ],
   "source": [
    "reg.coef_"
   ]
  },
  {
   "cell_type": "code",
   "execution_count": 9,
   "metadata": {},
   "outputs": [
    {
     "data": {
      "text/plain": [
       "36.45937"
      ]
     },
     "execution_count": 9,
     "metadata": {},
     "output_type": "execute_result"
    }
   ],
   "source": [
    "reg.intercept_"
   ]
  },
  {
   "cell_type": "code",
   "execution_count": 10,
   "metadata": {},
   "outputs": [],
   "source": [
    "y_pred = reg.predict(features)"
   ]
  },
  {
   "cell_type": "code",
   "execution_count": 11,
   "metadata": {},
   "outputs": [
    {
     "data": {
      "text/plain": [
       "21.894833"
      ]
     },
     "execution_count": 11,
     "metadata": {},
     "output_type": "execute_result"
    }
   ],
   "source": [
    "mean_squared_error(labels,y_pred)"
   ]
  },
  {
   "cell_type": "code",
   "execution_count": 12,
   "metadata": {},
   "outputs": [],
   "source": [
    "# для сходимости процесса,чтобы веса не становились очень большими \n",
    "sc = StandardScaler()\n",
    "features = sc.fit_transform(features)"
   ]
  },
  {
   "cell_type": "code",
   "execution_count": 13,
   "metadata": {},
   "outputs": [],
   "source": [
    "features = torch.tensor(features)\n",
    "labels = torch.tensor(labels)"
   ]
  },
  {
   "cell_type": "code",
   "execution_count": 14,
   "metadata": {},
   "outputs": [
    {
     "data": {
      "text/plain": [
       "torch.Size([506, 13])"
      ]
     },
     "execution_count": 14,
     "metadata": {},
     "output_type": "execute_result"
    }
   ],
   "source": [
    "features.shape"
   ]
  },
  {
   "cell_type": "code",
   "execution_count": 15,
   "metadata": {},
   "outputs": [
    {
     "data": {
      "text/plain": [
       "torch.Size([506])"
      ]
     },
     "execution_count": 15,
     "metadata": {},
     "output_type": "execute_result"
    }
   ],
   "source": [
    "labels.shape"
   ]
  },
  {
   "cell_type": "code",
   "execution_count": 16,
   "metadata": {},
   "outputs": [],
   "source": [
    "batch_size = 20\n",
    "dataset = TensorDataset(features, labels)\n",
    "# Randomly reading mini-batches\n",
    "data_iter = DataLoader(dataset, batch_size, shuffle=True)"
   ]
  },
  {
   "cell_type": "code",
   "execution_count": 17,
   "metadata": {},
   "outputs": [
    {
     "data": {
      "text/plain": [
       "torch.Size([506, 13])"
      ]
     },
     "execution_count": 17,
     "metadata": {},
     "output_type": "execute_result"
    }
   ],
   "source": [
    "features.shape"
   ]
  },
  {
   "cell_type": "code",
   "execution_count": 18,
   "metadata": {},
   "outputs": [
    {
     "data": {
      "text/plain": [
       "torch.Size([506])"
      ]
     },
     "execution_count": 18,
     "metadata": {},
     "output_type": "execute_result"
    }
   ],
   "source": [
    "labels.shape"
   ]
  },
  {
   "cell_type": "code",
   "execution_count": 19,
   "metadata": {},
   "outputs": [],
   "source": [
    "model = torch.nn.Sequential(torch.nn.Linear(13, 1))"
   ]
  },
  {
   "cell_type": "code",
   "execution_count": 20,
   "metadata": {},
   "outputs": [],
   "source": [
    "loss = torch.nn.MSELoss(reduction='mean')"
   ]
  },
  {
   "cell_type": "code",
   "execution_count": 21,
   "metadata": {},
   "outputs": [],
   "source": [
    "trainer = torch.optim.SGD(model.parameters(), lr=0.001)"
   ]
  },
  {
   "cell_type": "code",
   "execution_count": 22,
   "metadata": {},
   "outputs": [],
   "source": [
    "model[0].weight.data = torch.randn(13).reshape((1, 13))\n",
    "model[0].bias.data = torch.randn(1)"
   ]
  },
  {
   "cell_type": "code",
   "execution_count": 23,
   "metadata": {},
   "outputs": [
    {
     "data": {
      "text/plain": [
       "tensor([[-0.1177, -0.7004,  0.7444, -0.1225, -1.2398, -0.7158, -0.8449, -0.1121,\n",
       "          0.6648, -0.5186,  0.4235,  0.4018, -2.4592]])"
      ]
     },
     "execution_count": 23,
     "metadata": {},
     "output_type": "execute_result"
    }
   ],
   "source": [
    "model[0].weight.data"
   ]
  },
  {
   "cell_type": "code",
   "execution_count": 24,
   "metadata": {},
   "outputs": [
    {
     "name": "stdout",
     "output_type": "stream",
     "text": [
      "epoch 1, loss: 495.745697\n",
      "w tensor([[-0.2235, -0.5704,  0.6059, -0.0244, -1.3204, -0.4398, -0.8993, -0.0790,\n",
      "          0.5655, -0.6464,  0.1904,  0.4807, -2.6690]])\n",
      "b tensor([1.5721])\n",
      "epoch 2, loss: 444.339600\n",
      "w tensor([[-0.3078, -0.4538,  0.4769,  0.0438, -1.3772, -0.1414, -0.9431, -0.0774,\n",
      "          0.4923, -0.7549, -0.0431,  0.5474, -2.8624]])\n",
      "b tensor([2.6471])\n",
      "epoch 3, loss: 400.833893\n",
      "w tensor([[-0.3462, -0.3597,  0.4230,  0.1455, -1.3805,  0.0810, -0.9403, -0.1151,\n",
      "          0.4767, -0.7926, -0.2070,  0.5686, -2.9849]])\n",
      "b tensor([3.6607])\n",
      "epoch 4, loss: 362.790192\n",
      "w tensor([[-0.3778, -0.3116,  0.3826,  0.2050, -1.3737,  0.2654, -0.9192, -0.1657,\n",
      "          0.4760, -0.8220, -0.3286,  0.5830, -3.0818]])\n",
      "b tensor([4.6162])\n",
      "epoch 5, loss: 328.388550\n",
      "w tensor([[-0.4058, -0.2400,  0.3438,  0.2587, -1.3736,  0.4480, -0.9113, -0.2077,\n",
      "          0.4820, -0.8423, -0.4586,  0.5965, -3.1779]])\n",
      "b tensor([5.5272])\n",
      "epoch 6, loss: 297.758362\n",
      "w tensor([[-0.4250, -0.2047,  0.3135,  0.3088, -1.3534,  0.5955, -0.8706, -0.2692,\n",
      "          0.4883, -0.8625, -0.5780,  0.6168, -3.2433]])\n",
      "b tensor([6.3909])\n",
      "epoch 7, loss: 270.510834\n",
      "w tensor([[-0.4385, -0.1850,  0.3178,  0.3549, -1.3201,  0.7256, -0.8215, -0.3418,\n",
      "          0.4980, -0.8702, -0.6564,  0.6128, -3.2846]])\n",
      "b tensor([7.2085])\n",
      "epoch 8, loss: 245.663727\n",
      "w tensor([[-0.4512, -0.1591,  0.3082,  0.4273, -1.2999,  0.8728, -0.7844, -0.3980,\n",
      "          0.5045, -0.8781, -0.7495,  0.6284, -3.3504]])\n",
      "b tensor([7.9858])\n",
      "epoch 9, loss: 223.415833\n",
      "w tensor([[-0.4595, -0.1366,  0.2943,  0.4648, -1.2747,  1.0068, -0.7421, -0.4628,\n",
      "          0.5239, -0.8802, -0.8396,  0.6273, -3.3991]])\n",
      "b tensor([8.7222])\n",
      "epoch 10, loss: 203.273178\n",
      "w tensor([[-0.4732, -0.1180,  0.2764,  0.5064, -1.2558,  1.1387, -0.7016, -0.5254,\n",
      "          0.5311, -0.8946, -0.9246,  0.6401, -3.4604]])\n",
      "b tensor([9.4238])\n",
      "epoch 11, loss: 185.189865\n",
      "w tensor([[-0.4849, -0.1057,  0.2715,  0.5449, -1.2371,  1.2566, -0.6663, -0.5882,\n",
      "          0.5409, -0.9023, -0.9950,  0.6502, -3.5094]])\n",
      "b tensor([10.0915])\n",
      "epoch 12, loss: 169.149231\n",
      "w tensor([[-0.4881, -0.0938,  0.2725,  0.5944, -1.2148,  1.3405, -0.6247, -0.6477,\n",
      "          0.5586, -0.8998, -1.0494,  0.6581, -3.5339]])\n",
      "b tensor([10.7212])\n",
      "epoch 13, loss: 154.595795\n",
      "w tensor([[-0.4808, -0.0607,  0.2685,  0.6170, -1.1948,  1.4279, -0.5944, -0.7012,\n",
      "          0.5853, -0.8916, -1.1092,  0.6462, -3.5606]])\n",
      "b tensor([11.3221])\n",
      "epoch 14, loss: 141.627747\n",
      "w tensor([[-0.4842, -0.0464,  0.2647,  0.6394, -1.1786,  1.5105, -0.5708, -0.7477,\n",
      "          0.6015, -0.8881, -1.1588,  0.6432, -3.5878]])\n",
      "b tensor([11.8881])\n",
      "epoch 15, loss: 129.675446\n",
      "w tensor([[-0.4890, -0.0240,  0.2542,  0.6699, -1.1615,  1.6189, -0.5472, -0.7984,\n",
      "          0.6176, -0.8922, -1.2254,  0.6493, -3.6286]])\n",
      "b tensor([12.4297])\n",
      "epoch 16, loss: 119.102127\n",
      "w tensor([[-4.8736e-01, -1.3724e-03,  2.5237e-01,  6.8584e-01, -1.1456e+00,\n",
      "          1.6846e+00, -5.2638e-01, -8.4802e-01,  6.4298e-01, -8.8418e-01,\n",
      "         -1.2651e+00,  6.5684e-01, -3.6443e+00]])\n",
      "b tensor([12.9436])\n",
      "epoch 17, loss: 109.408470\n",
      "w tensor([[-0.4957,  0.0153,  0.2466,  0.7205, -1.1358,  1.7790, -0.5086, -0.8923,\n",
      "          0.6496, -0.8917, -1.3350,  0.6648, -3.6897]])\n",
      "b tensor([13.4321])\n",
      "epoch 18, loss: 100.880112\n",
      "w tensor([[-0.4711,  0.0225,  0.2511,  0.7353, -1.1160,  1.8272, -0.4762, -0.9432,\n",
      "          0.6781, -0.8780, -1.3640,  0.6562, -3.6892]])\n",
      "b tensor([13.8944])\n",
      "epoch 19, loss: 93.018768\n",
      "w tensor([[-0.4783,  0.0510,  0.2478,  0.7642, -1.1144,  1.9131, -0.4609, -0.9790,\n",
      "          0.6917, -0.8780, -1.4158,  0.6629, -3.7268]])\n",
      "b tensor([14.3357])\n",
      "epoch 20, loss: 86.145966\n",
      "w tensor([[-0.4774,  0.0632,  0.2444,  0.7810, -1.1041,  1.9694, -0.4400, -1.0186,\n",
      "          0.7108, -0.8744, -1.4484,  0.6644, -3.7470]])\n",
      "b tensor([14.7471])\n",
      "epoch 21, loss: 79.908424\n",
      "w tensor([[-0.4729,  0.0733,  0.2444,  0.8022, -1.0911,  2.0229, -0.4182, -1.0619,\n",
      "          0.7344, -0.8661, -1.4783,  0.6606, -3.7568]])\n",
      "b tensor([15.1401])\n",
      "epoch 22, loss: 74.164635\n",
      "w tensor([[-0.4744,  0.0809,  0.2437,  0.8400, -1.0813,  2.0615, -0.4037, -1.1090,\n",
      "          0.7572, -0.8583, -1.5049,  0.6660, -3.7689]])\n",
      "b tensor([15.5233])\n",
      "epoch 23, loss: 69.132935\n",
      "w tensor([[-0.4775,  0.0940,  0.2361,  0.8492, -1.0782,  2.1098, -0.3858, -1.1414,\n",
      "          0.7699, -0.8586, -1.5313,  0.6732, -3.7853]])\n",
      "b tensor([15.8762])\n",
      "epoch 24, loss: 64.572899\n",
      "w tensor([[-0.4769,  0.1041,  0.2396,  0.8517, -1.0644,  2.1487, -0.3637, -1.1815,\n",
      "          0.7840, -0.8539, -1.5558,  0.6805, -3.7875]])\n",
      "b tensor([16.2140])\n",
      "epoch 25, loss: 60.426945\n",
      "w tensor([[-0.4808,  0.1272,  0.2349,  0.8531, -1.0654,  2.1966, -0.3541, -1.2075,\n",
      "          0.7976, -0.8551, -1.5801,  0.6803, -3.8033]])\n",
      "b tensor([16.5363])\n",
      "epoch 26, loss: 56.654148\n",
      "w tensor([[-0.4806,  0.1353,  0.2341,  0.8529, -1.0592,  2.2326, -0.3320, -1.2454,\n",
      "          0.8206, -0.8456, -1.5966,  0.6844, -3.8141]])\n",
      "b tensor([16.8464])\n",
      "epoch 27, loss: 53.269829\n",
      "w tensor([[-0.4882,  0.1525,  0.2169,  0.8558, -1.0677,  2.2884, -0.3280, -1.2616,\n",
      "          0.8271, -0.8545, -1.6224,  0.6936, -3.8391]])\n",
      "b tensor([17.1372])\n",
      "epoch 28, loss: 50.226532\n",
      "w tensor([[-0.4863,  0.1638,  0.2181,  0.8505, -1.0627,  2.3156, -0.3072, -1.2962,\n",
      "          0.8495, -0.8460, -1.6409,  0.6996, -3.8538]])\n",
      "b tensor([17.4146])\n",
      "epoch 29, loss: 47.522411\n",
      "w tensor([[-0.4869,  0.1788,  0.2168,  0.8505, -1.0594,  2.3410, -0.2935, -1.3261,\n",
      "          0.8642, -0.8456, -1.6591,  0.7057, -3.8619]])\n",
      "b tensor([17.6751])\n",
      "epoch 30, loss: 45.084721\n",
      "w tensor([[-0.4908,  0.1921,  0.2080,  0.8511, -1.0570,  2.3781, -0.2801, -1.3536,\n",
      "          0.8753, -0.8481, -1.6869,  0.7109, -3.8736]])\n",
      "b tensor([17.9197])\n",
      "epoch 31, loss: 42.873508\n",
      "w tensor([[-0.4968,  0.2142,  0.1933,  0.8502, -1.0649,  2.4166, -0.2775, -1.3731,\n",
      "          0.8821, -0.8550, -1.7138,  0.7173, -3.8901]])\n",
      "b tensor([18.1540])\n",
      "epoch 32, loss: 40.850574\n",
      "w tensor([[-0.5000,  0.2283,  0.1837,  0.8477, -1.0661,  2.4463, -0.2703, -1.4015,\n",
      "          0.8923, -0.8587, -1.7318,  0.7236, -3.8989]])\n",
      "b tensor([18.3808])\n",
      "epoch 33, loss: 39.021473\n",
      "w tensor([[-0.4980,  0.2317,  0.1884,  0.8717, -1.0570,  2.4648, -0.2520, -1.4376,\n",
      "          0.9156, -0.8469, -1.7370,  0.7261, -3.9045]])\n",
      "b tensor([18.5970])\n",
      "epoch 34, loss: 37.426052\n",
      "w tensor([[-0.5004,  0.2394,  0.1814,  0.8696, -1.0592,  2.4902, -0.2371, -1.4618,\n",
      "          0.9262, -0.8491, -1.7497,  0.7298, -3.9110]])\n",
      "b tensor([18.7958])\n",
      "epoch 35, loss: 36.002434\n",
      "w tensor([[-0.5049,  0.2504,  0.1772,  0.8679, -1.0622,  2.5126, -0.2269, -1.4823,\n",
      "          0.9345, -0.8494, -1.7626,  0.7330, -3.9151]])\n",
      "b tensor([18.9829])\n",
      "epoch 36, loss: 34.725258\n",
      "w tensor([[-0.5085,  0.2626,  0.1704,  0.8663, -1.0668,  2.5334, -0.2185, -1.4993,\n",
      "          0.9440, -0.8516, -1.7766,  0.7357, -3.9190]])\n",
      "b tensor([19.1596])\n",
      "epoch 37, loss: 33.555466\n",
      "w tensor([[-0.5128,  0.2718,  0.1630,  0.8632, -1.0706,  2.5519, -0.2151, -1.5185,\n",
      "          0.9528, -0.8542, -1.7879,  0.7405, -3.9222]])\n",
      "b tensor([19.3303])\n",
      "epoch 38, loss: 32.514595\n",
      "w tensor([[-0.5105,  0.2806,  0.1647,  0.8590, -1.0693,  2.5671, -0.2048, -1.5415,\n",
      "          0.9677, -0.8501, -1.7946,  0.7428, -3.9202]])\n",
      "b tensor([19.4894])\n",
      "epoch 39, loss: 31.543724\n",
      "w tensor([[-0.5148,  0.2932,  0.1551,  0.8560, -1.0759,  2.5920, -0.1983, -1.5563,\n",
      "          0.9760, -0.8536, -1.8047,  0.7473, -3.9280]])\n",
      "b tensor([19.6451])\n",
      "epoch 40, loss: 30.647923\n",
      "w tensor([[-0.5110,  0.2974,  0.1591,  0.8523, -1.0730,  2.6063, -0.1814, -1.5840,\n",
      "          0.9999, -0.8415, -1.8061,  0.7456, -3.9316]])\n",
      "b tensor([19.7960])\n",
      "epoch 41, loss: 29.867817\n",
      "w tensor([[-0.5165,  0.3090,  0.1495,  0.8515, -1.0810,  2.6245, -0.1808, -1.5992,\n",
      "          1.0058, -0.8468, -1.8193,  0.7510, -3.9387]])\n",
      "b tensor([19.9347])\n",
      "epoch 42, loss: 29.168949\n",
      "w tensor([[-0.5194,  0.3189,  0.1452,  0.8485, -1.0856,  2.6414, -0.1754, -1.6171,\n",
      "          1.0166, -0.8472, -1.8285,  0.7548, -3.9424]])\n",
      "b tensor([20.0652])\n",
      "epoch 43, loss: 28.523396\n",
      "w tensor([[-0.5240,  0.3381,  0.1360,  0.8451, -1.0941,  2.6629, -0.1731, -1.6329,\n",
      "          1.0228, -0.8533, -1.8425,  0.7595, -3.9488]])\n",
      "b tensor([20.1913])\n",
      "epoch 44, loss: 27.928568\n",
      "w tensor([[-0.5228,  0.3542,  0.1307,  0.8410, -1.0979,  2.6783, -0.1683, -1.6513,\n",
      "          1.0352, -0.8536, -1.8524,  0.7609, -3.9490]])\n"
     ]
    },
    {
     "name": "stdout",
     "output_type": "stream",
     "text": [
      "b tensor([20.3137])\n",
      "epoch 45, loss: 27.401821\n",
      "w tensor([[-0.5260,  0.3682,  0.1232,  0.8374, -1.1045,  2.6950, -0.1614, -1.6680,\n",
      "          1.0422, -0.8587, -1.8626,  0.7646, -3.9529]])\n",
      "b tensor([20.4282])\n",
      "epoch 46, loss: 26.929735\n",
      "w tensor([[-0.5273,  0.3726,  0.1202,  0.8345, -1.1083,  2.7023, -0.1500, -1.6863,\n",
      "          1.0524, -0.8594, -1.8671,  0.7644, -3.9457]])\n",
      "b tensor([20.5363])\n",
      "epoch 47, loss: 26.524513\n",
      "w tensor([[-0.5286,  0.3805,  0.1164,  0.8315, -1.1121,  2.7120, -0.1443, -1.7033,\n",
      "          1.0626, -0.8598, -1.8725,  0.7658, -3.9448]])\n",
      "b tensor([20.6336])\n",
      "epoch 48, loss: 26.155403\n",
      "w tensor([[-0.5302,  0.3882,  0.1134,  0.8247, -1.1187,  2.7155, -0.1376, -1.7192,\n",
      "          1.0669, -0.8640, -1.8853,  0.7688, -3.9430]])\n",
      "b tensor([20.7272])\n",
      "epoch 49, loss: 25.792166\n",
      "w tensor([[-0.5352,  0.3921,  0.1031,  0.8203, -1.1263,  2.7381, -0.1338, -1.7360,\n",
      "          1.0718, -0.8723, -1.8913,  0.7737, -3.9491]])\n",
      "b tensor([20.8234])\n",
      "epoch 50, loss: 25.478859\n",
      "w tensor([[-0.5335,  0.3958,  0.1052,  0.8179, -1.1261,  2.7433, -0.1240, -1.7561,\n",
      "          1.0860, -0.8681, -1.8928,  0.7739, -3.9438]])\n",
      "b tensor([20.9095])\n",
      "epoch 51, loss: 25.188063\n",
      "w tensor([[-0.5364,  0.3990,  0.1050,  0.8142, -1.1299,  2.7452, -0.1238, -1.7739,\n",
      "          1.0959, -0.8688, -1.8966,  0.7691, -3.9329]])\n",
      "b tensor([20.9957])\n",
      "epoch 52, loss: 24.934580\n",
      "w tensor([[-0.5354,  0.4046,  0.1037,  0.8120, -1.1316,  2.7479, -0.1192, -1.7913,\n",
      "          1.1075, -0.8673, -1.8993,  0.7724, -3.9273]])\n",
      "b tensor([21.0739])\n",
      "epoch 53, loss: 24.690144\n",
      "w tensor([[-0.5377,  0.4113,  0.1053,  0.8080, -1.1336,  2.7420, -0.1089, -1.8107,\n",
      "          1.1260, -0.8596, -1.8978,  0.7770, -3.9369]])\n",
      "b tensor([21.1536])\n",
      "epoch 54, loss: 24.485823\n",
      "w tensor([[-0.5372,  0.4183,  0.1019,  0.8036, -1.1389,  2.7396, -0.1026, -1.8263,\n",
      "          1.1386, -0.8580, -1.8987,  0.7723, -3.9381]])\n",
      "b tensor([21.2241])\n",
      "epoch 55, loss: 24.297518\n",
      "w tensor([[-0.5420,  0.4250,  0.0981,  0.8012, -1.1410,  2.7442, -0.0975, -1.8401,\n",
      "          1.1429, -0.8631, -1.9074,  0.7762, -3.9346]])\n",
      "b tensor([21.2910])\n",
      "epoch 56, loss: 24.109007\n",
      "w tensor([[-0.5483,  0.4417,  0.0872,  0.7982, -1.1526,  2.7630, -0.0984, -1.8495,\n",
      "          1.1460, -0.8725, -1.9209,  0.7808, -3.9418]])\n",
      "b tensor([21.3584])\n",
      "epoch 57, loss: 23.959858\n",
      "w tensor([[-0.5523,  0.4481,  0.0832,  0.7959, -1.1593,  2.7682, -0.0945, -1.8623,\n",
      "          1.1515, -0.8763, -1.9239,  0.7830, -3.9407]])\n",
      "b tensor([21.4168])\n",
      "epoch 58, loss: 23.816603\n",
      "w tensor([[-0.5527,  0.4463,  0.0893,  0.7927, -1.1567,  2.7606, -0.0805, -1.8872,\n",
      "          1.1718, -0.8667, -1.9193,  0.7860, -3.9459]])\n",
      "b tensor([21.4763])\n",
      "epoch 59, loss: 23.677299\n",
      "w tensor([[-0.5505,  0.4531,  0.0829,  0.7885, -1.1635,  2.7586, -0.0777, -1.8986,\n",
      "          1.1820, -0.8673, -1.9222,  0.7925, -3.9357]])\n",
      "b tensor([21.5377])\n",
      "epoch 60, loss: 23.565817\n",
      "w tensor([[-0.5561,  0.4636,  0.0778,  0.7823, -1.1726,  2.7631, -0.0787, -1.9063,\n",
      "          1.1851, -0.8714, -1.9251,  0.7955, -3.9357]])\n",
      "b tensor([21.5874])\n",
      "epoch 61, loss: 23.472031\n",
      "w tensor([[-0.5607,  0.4665,  0.0743,  0.7817, -1.1781,  2.7688, -0.0766, -1.9210,\n",
      "          1.1907, -0.8763, -1.9260,  0.7978, -3.9359]])\n",
      "b tensor([21.6303])\n",
      "epoch 62, loss: 23.379831\n",
      "w tensor([[-0.5570,  0.4705,  0.0751,  0.7766, -1.1795,  2.7641, -0.0687, -1.9380,\n",
      "          1.2051, -0.8719, -1.9266,  0.7996, -3.9216]])\n",
      "b tensor([21.6777])\n",
      "epoch 63, loss: 23.289944\n",
      "w tensor([[-0.5611,  0.4826,  0.0688,  0.7757, -1.1891,  2.7742, -0.0698, -1.9461,\n",
      "          1.2102, -0.8756, -1.9313,  0.8023, -3.9237]])\n",
      "b tensor([21.7208])\n",
      "epoch 64, loss: 23.211805\n",
      "w tensor([[-0.5662,  0.4905,  0.0624,  0.7747, -1.1973,  2.7799, -0.0687, -1.9560,\n",
      "          1.2133, -0.8826, -1.9355,  0.8057, -3.9249]])\n",
      "b tensor([21.7607])\n",
      "epoch 65, loss: 23.135023\n",
      "w tensor([[-0.5655,  0.4932,  0.0682,  0.7872, -1.1973,  2.7800, -0.0584, -1.9764,\n",
      "          1.2271, -0.8775, -1.9310,  0.8092, -3.9171]])\n",
      "b tensor([21.8065])\n",
      "epoch 66, loss: 23.070766\n",
      "w tensor([[-0.5646,  0.4996,  0.0661,  0.7848, -1.2031,  2.7806, -0.0546, -1.9889,\n",
      "          1.2368, -0.8777, -1.9323,  0.8101, -3.9128]])\n",
      "b tensor([21.8446])\n",
      "epoch 67, loss: 23.012114\n",
      "w tensor([[-0.5707,  0.5092,  0.0589,  0.7787, -1.2127,  2.7825, -0.0575, -1.9952,\n",
      "          1.2369, -0.8863, -1.9396,  0.8159, -3.9143]])\n",
      "b tensor([21.8762])\n",
      "epoch 68, loss: 22.958502\n",
      "w tensor([[-0.5715,  0.5151,  0.0564,  0.7772, -1.2183,  2.7812, -0.0549, -2.0070,\n",
      "          1.2440, -0.8883, -1.9416,  0.8161, -3.9105]])\n",
      "b tensor([21.9102])\n",
      "epoch 69, loss: 22.909655\n",
      "w tensor([[-0.5781,  0.5240,  0.0467,  0.7769, -1.2286,  2.7882, -0.0563, -2.0129,\n",
      "          1.2448, -0.8985, -1.9474,  0.8214, -3.9148]])\n",
      "b tensor([21.9381])\n",
      "epoch 70, loss: 22.862190\n",
      "w tensor([[-0.5828,  0.5299,  0.0379,  0.7751, -1.2373,  2.7969, -0.0571, -2.0213,\n",
      "          1.2479, -0.9060, -1.9531,  0.8267, -3.9183]])\n",
      "b tensor([21.9689])\n",
      "epoch 71, loss: 22.818459\n",
      "w tensor([[-0.5854,  0.5389,  0.0338,  0.7700, -1.2434,  2.8018, -0.0554, -2.0300,\n",
      "          1.2550, -0.9086, -1.9545,  0.8279, -3.9176]])\n",
      "b tensor([21.9989])\n",
      "epoch 72, loss: 22.776333\n",
      "w tensor([[-0.5893,  0.5438,  0.0284,  0.7680, -1.2473,  2.8065, -0.0508, -2.0433,\n",
      "          1.2597, -0.9131, -1.9603,  0.8311, -3.9157]])\n",
      "b tensor([22.0281])\n",
      "epoch 73, loss: 22.735126\n",
      "w tensor([[-0.5912,  0.5460,  0.0295,  0.7822, -1.2488,  2.8099, -0.0414, -2.0580,\n",
      "          1.2722, -0.9104, -1.9610,  0.8355, -3.9150]])\n",
      "b tensor([22.0589])\n",
      "epoch 74, loss: 22.700872\n",
      "w tensor([[-0.5934,  0.5508,  0.0259,  0.7798, -1.2551,  2.8152, -0.0382, -2.0690,\n",
      "          1.2793, -0.9136, -1.9644,  0.8361, -3.9140]])\n",
      "b tensor([22.0844])\n",
      "epoch 75, loss: 22.675501\n",
      "w tensor([[-0.5955,  0.5558,  0.0232,  0.7784, -1.2616,  2.8172, -0.0375, -2.0777,\n",
      "          1.2848, -0.9172, -1.9658,  0.8361, -3.9119]])\n",
      "b tensor([22.1034])\n",
      "epoch 76, loss: 22.647394\n",
      "w tensor([[-0.5993,  0.5604,  0.0204,  0.7763, -1.2670,  2.8154, -0.0370, -2.0880,\n",
      "          1.2915, -0.9196, -1.9657,  0.8363, -3.9113]])\n",
      "b tensor([22.1264])\n",
      "epoch 77, loss: 22.622438\n",
      "w tensor([[-0.6015,  0.5622,  0.0185,  0.7739, -1.2718,  2.8143, -0.0334, -2.1000,\n",
      "          1.2972, -0.9237, -1.9662,  0.8360, -3.9078]])\n",
      "b tensor([22.1466])\n",
      "epoch 78, loss: 22.599827\n",
      "w tensor([[-0.6038,  0.5605,  0.0178,  0.7720, -1.2762,  2.8123, -0.0346, -2.1126,\n",
      "          1.3041, -0.9268, -1.9642,  0.8352, -3.8959]])\n",
      "b tensor([22.1660])\n",
      "epoch 79, loss: 22.579340\n",
      "w tensor([[-0.6075,  0.5666,  0.0129,  0.7708, -1.2844,  2.8152, -0.0348, -2.1200,\n",
      "          1.3079, -0.9322, -1.9663,  0.8369, -3.8959]])\n",
      "b tensor([22.1821])\n",
      "epoch 80, loss: 22.559702\n",
      "w tensor([[-0.6087,  0.5713,  0.0100,  0.7611, -1.2925,  2.8166, -0.0340, -2.1282,\n",
      "          1.3181, -0.9320, -1.9630,  0.8331, -3.8930]])\n",
      "b tensor([22.1974])\n",
      "epoch 81, loss: 22.540781\n",
      "w tensor([[-0.6116,  0.5749,  0.0096,  0.7600, -1.2981,  2.8166, -0.0319, -2.1393,\n",
      "          1.3240, -0.9331, -1.9640,  0.8330, -3.8880]])\n",
      "b tensor([22.2138])\n",
      "epoch 82, loss: 22.524426\n",
      "w tensor([[-0.6018,  0.5778,  0.0083,  0.7579, -1.3012,  2.8136, -0.0277, -2.1497,\n",
      "          1.3334, -0.9333, -1.9629,  0.8263, -3.8790]])\n",
      "b tensor([22.2329])\n",
      "epoch 83, loss: 22.505333\n",
      "w tensor([[-6.0587e-01,  5.8171e-01,  3.0120e-03,  7.5688e-01, -1.3078e+00,\n",
      "          2.8159e+00, -2.7495e-02, -2.1607e+00,  1.3374e+00, -9.3907e-01,\n",
      "         -1.9647e+00,  8.2823e-01, -3.8794e+00]])\n",
      "b tensor([22.2485])\n",
      "epoch 84, loss: 22.489910\n",
      "w tensor([[-0.6042,  0.5841,  0.0069,  0.7539, -1.3111,  2.8106, -0.0197, -2.1758,\n",
      "          1.3495, -0.9353, -1.9657,  0.8185, -3.8792]])\n",
      "b tensor([22.2694])\n",
      "epoch 85, loss: 22.472383\n",
      "w tensor([[-6.1277e-01,  5.9309e-01, -2.1070e-03,  7.3924e-01, -1.3276e+00,\n",
      "          2.8060e+00, -2.3187e-02, -2.1783e+00,  1.3392e+00, -9.5206e-01,\n",
      "         -1.9800e+00,  8.2208e-01, -3.8837e+00]])\n",
      "b tensor([22.2784])\n",
      "epoch 86, loss: 22.460548\n",
      "w tensor([[-0.6170,  0.6003, -0.0066,  0.7398, -1.3357,  2.8082, -0.0240, -2.1839,\n",
      "          1.3433, -0.9568, -1.9808,  0.8288, -3.8852]])\n",
      "b tensor([22.2868])\n",
      "epoch 87, loss: 22.446480\n",
      "w tensor([[-0.6170,  0.6033, -0.0067,  0.7385, -1.3392,  2.8057, -0.0217, -2.1947,\n",
      "          1.3514, -0.9572, -1.9797,  0.8287, -3.8799]])\n",
      "b tensor([22.3011])\n",
      "epoch 88, loss: 22.434536\n",
      "w tensor([[-0.6196,  0.6084, -0.0092,  0.7386, -1.3446,  2.8071, -0.0200, -2.2036,\n"
     ]
    },
    {
     "name": "stdout",
     "output_type": "stream",
     "text": [
      "          1.3565, -0.9606, -1.9819,  0.8298, -3.8785]])\n",
      "b tensor([22.3109])\n",
      "epoch 89, loss: 22.424376\n",
      "w tensor([[-0.6236,  0.6141, -0.0116,  0.7392, -1.3497,  2.8069, -0.0207, -2.2101,\n",
      "          1.3599, -0.9654, -1.9854,  0.8306, -3.8778]])\n",
      "b tensor([22.3199])\n",
      "epoch 90, loss: 22.411213\n",
      "w tensor([[-0.6255,  0.6137, -0.0040,  0.7367, -1.3512,  2.7869, -0.0098, -2.2288,\n",
      "          1.3761, -0.9577, -1.9836,  0.8239, -3.8897]])\n",
      "b tensor([22.3390])\n",
      "epoch 91, loss: 22.399532\n",
      "w tensor([[-0.6349,  0.6208, -0.0124,  0.7361, -1.3632,  2.7989, -0.0177, -2.2277,\n",
      "          1.3759, -0.9666, -1.9860,  0.8272, -3.8968]])\n",
      "b tensor([22.3491])\n",
      "epoch 92, loss: 22.389463\n",
      "w tensor([[-0.6345,  0.6173, -0.0047,  0.7343, -1.3610,  2.7879, -0.0058, -2.2480,\n",
      "          1.3948, -0.9566, -1.9792,  0.8273, -3.9011]])\n",
      "b tensor([22.3637])\n",
      "epoch 93, loss: 22.379290\n",
      "w tensor([[-0.6371,  0.6196, -0.0085,  0.7340, -1.3662,  2.7908, -0.0056, -2.2571,\n",
      "          1.3997, -0.9606, -1.9802,  0.8266, -3.8988]])\n",
      "b tensor([22.3729])\n",
      "epoch 94, loss: 22.370064\n",
      "w tensor([[-0.6407,  0.6261, -0.0116,  0.7343, -1.3727,  2.7923, -0.0072, -2.2627,\n",
      "          1.4034, -0.9651, -1.9818,  0.8282, -3.8975]])\n",
      "b tensor([22.3789])\n",
      "epoch 95, loss: 22.358419\n",
      "w tensor([[-0.6461,  0.6399, -0.0179,  0.7340, -1.3817,  2.8001, -0.0096, -2.2669,\n",
      "          1.4046, -0.9728, -1.9870,  0.8352, -3.8995]])\n",
      "b tensor([22.3865])\n",
      "epoch 96, loss: 22.348923\n",
      "w tensor([[-6.4795e-01,  6.3960e-01, -1.4727e-02,  7.3198e-01, -1.3847e+00,\n",
      "          2.7842e+00,  1.9577e-03, -2.2797e+00,  1.4176e+00, -9.6903e-01,\n",
      "         -1.9855e+00,  8.3917e-01, -3.8999e+00]])\n",
      "b tensor([22.4015])\n",
      "epoch 97, loss: 22.337807\n",
      "w tensor([[-6.5247e-01,  6.5135e-01, -2.0850e-02,  7.3118e-01, -1.3939e+00,\n",
      "          2.7922e+00, -2.0665e-04, -2.2854e+00,  1.4196e+00, -9.7623e-01,\n",
      "         -1.9907e+00,  8.4144e-01, -3.9026e+00]])\n",
      "b tensor([22.4099])\n",
      "epoch 98, loss: 22.332153\n",
      "w tensor([[-6.5716e-01,  6.5652e-01, -2.5426e-02,  7.3057e-01, -1.4034e+00,\n",
      "          2.7930e+00, -8.5491e-04, -2.2904e+00,  1.4191e+00, -9.8463e-01,\n",
      "         -1.9938e+00,  8.4751e-01, -3.9054e+00]])\n",
      "b tensor([22.4129])\n",
      "epoch 99, loss: 22.326612\n",
      "w tensor([[-6.5996e-01,  6.6041e-01, -2.9021e-02,  7.3246e-01, -1.4100e+00,\n",
      "          2.7946e+00, -1.7328e-04, -2.2978e+00,  1.4222e+00, -9.9034e-01,\n",
      "         -1.9961e+00,  8.5138e-01, -3.9050e+00]])\n",
      "b tensor([22.4142])\n",
      "epoch 100, loss: 22.319540\n",
      "w tensor([[-6.6088e-01,  6.6379e-01, -2.9887e-02,  7.2993e-01, -1.4145e+00,\n",
      "          2.7955e+00,  5.4778e-04, -2.3053e+00,  1.4287e+00, -9.9234e-01,\n",
      "         -1.9954e+00,  8.5027e-01, -3.9029e+00]])\n",
      "b tensor([22.4191])\n"
     ]
    }
   ],
   "source": [
    "num_epochs = 100\n",
    "min_loss = 10000\n",
    "for epoch in range(1, num_epochs + 1):\n",
    "    for X, y in data_iter:\n",
    "        trainer.zero_grad()\n",
    "        l = loss(model.forward(X).reshape(-1), y)\n",
    "        l.backward()\n",
    "        trainer.step()\n",
    "    l = loss(model.forward(features).reshape(-1), labels)\n",
    "    if l.item() < min_loss:\n",
    "        min_loss = l.item()\n",
    "        best_coeff = model[0].weight.data\n",
    "        best_bias = model[0].bias.data\n",
    "    print('epoch %d, loss: %f' % (epoch, l.item()))\n",
    "    print('w', model[0].weight.data)\n",
    "    print('b', model[0].bias.data)"
   ]
  },
  {
   "cell_type": "code",
   "execution_count": 25,
   "metadata": {},
   "outputs": [
    {
     "name": "stdout",
     "output_type": "stream",
     "text": [
      "best coeffs tensor([[-6.6088e-01,  6.6379e-01, -2.9887e-02,  7.2993e-01, -1.4145e+00,\n",
      "          2.7955e+00,  5.4778e-04, -2.3053e+00,  1.4287e+00, -9.9234e-01,\n",
      "         -1.9954e+00,  8.5027e-01, -3.9029e+00]])\n",
      "best intercept tensor([22.4191])\n",
      "loss minimum 22.31954002380371\n"
     ]
    }
   ],
   "source": [
    "print(f'best coeffs {best_coeff}')\n",
    "print(f'best intercept {best_bias}')\n",
    "print(f'loss minimum {min_loss}')"
   ]
  },
  {
   "cell_type": "code",
   "execution_count": 26,
   "metadata": {},
   "outputs": [
    {
     "data": {
      "text/plain": [
       "torch.Size([1, 13])"
      ]
     },
     "execution_count": 26,
     "metadata": {},
     "output_type": "execute_result"
    }
   ],
   "source": [
    "best_coeff.shape"
   ]
  },
  {
   "cell_type": "code",
   "execution_count": 27,
   "metadata": {},
   "outputs": [
    {
     "data": {
      "text/plain": [
       "torch.Size([506, 13])"
      ]
     },
     "execution_count": 27,
     "metadata": {},
     "output_type": "execute_result"
    }
   ],
   "source": [
    "features.shape"
   ]
  },
  {
   "cell_type": "code",
   "execution_count": 28,
   "metadata": {},
   "outputs": [],
   "source": [
    "y_pred_perceptron = torch.mm(features,best_coeff.T) + best_bias"
   ]
  },
  {
   "cell_type": "code",
   "execution_count": 32,
   "metadata": {},
   "outputs": [
    {
     "data": {
      "text/plain": [
       "Text(0.5, 1.0, 'сравнение результатов')"
      ]
     },
     "execution_count": 32,
     "metadata": {},
     "output_type": "execute_result"
    },
    {
     "data": {
      "image/png": "[encoded data removed]",
      "text/plain": [
       "<Figure size 864x720 with 1 Axes>"
      ]
     },
     "metadata": {
      "needs_background": "light"
     },
     "output_type": "display_data"
    }
   ],
   "source": [
    "rcParams['figure.figsize'] = 12,10\n",
    "plt.plot(labels.numpy()[:100])\n",
    "plt.plot(y_pred_perceptron.numpy()[:100])\n",
    "plt.plot(y_pred[:100])\n",
    "#plt.tick_params(axis='x', which='both', bottom=False, top=False,labelbottom=False)\n",
    "plt.ylabel('price in 1000 $')\n",
    "plt.xlabel('training samples')\n",
    "plt.legend(('True','Perceptron','Linear regression'), loc='upper right')\n",
    "plt.title('сравнение результатов')"
   ]
  },
  {
   "cell_type": "code",
   "execution_count": null,
   "metadata": {},
   "outputs": [],
   "source": []
  }
 ],
 "metadata": {
  "kernelspec": {
   "display_name": "Python 3",
   "language": "python",
   "name": "python3"
  },
  "language_info": {
   "codemirror_mode": {
    "name": "ipython",
    "version": 3
   },
   "file_extension": ".py",
   "mimetype": "text/x-python",
   "name": "python",
   "nbconvert_exporter": "python",
   "pygments_lexer": "ipython3",
   "version": "3.7.3"
  }
 },
 "nbformat": 4,
 "nbformat_minor": 2
}
